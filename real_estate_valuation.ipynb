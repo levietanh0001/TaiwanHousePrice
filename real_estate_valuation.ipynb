{
 "cells": [
  {
   "cell_type": "markdown",
   "metadata": {},
   "source": [
    "# Real Estate Price - Machine Learning\n",
    "\n",
    "Source\n",
    "---\n",
    "https://archive.ics.uci.edu/ml/datasets/Real+estate+valuation+data+set\n",
    "\n",
    "\n",
    "\n",
    "Assignment\n",
    "---\n",
    "1. Study the dataset\n",
    "- Choose 2 datasets from UCI Machine Learning Repository with more than 3 dimensions.\n",
    "(http://archive.ics.uci.edu/ml/)\n",
    "- For each dataset, determine which feature is discrete or continuous? is it quantitative or\n",
    "qualitative? Explain.\n",
    "- Calculate mean, variance, covariance, correlation of the selected datasets.\n",
    "- Find the most corelated couple of features of each dataset. Comment on the results.\n",
    "\n",
    "\n",
    "2. PCA\n",
    "- Apply PCA on the two selected datasets\n",
    "- How much of the total variation in the data is explained by the first two principal components?\n",
    "- How well are the individual classes separated in the case we use two principal components?\n",
    "Explain.\n",
    "- Increase the number of principal components used, analyze and comment on the obtained\n",
    "results.\n",
    "- Visualize data distribution in 2D.\n"
   ]
  },
  {
   "cell_type": "code",
   "execution_count": 40,
   "metadata": {},
   "outputs": [],
   "source": [
    "import pandas as pd\n",
    "import numpy as np"
   ]
  },
  {
   "cell_type": "code",
   "execution_count": 41,
   "metadata": {},
   "outputs": [],
   "source": [
    "xlsx_path = r'./databases/real_estate_valuation.xlsx'\n",
    "df = pd.read_excel(xlsx_path)\n",
    "csv_path = r'./databases/real_estate_valuation.csv'\n",
    "df.to_csv(csv_path, index=False, header=True, encoding='utf-8-sig', sep=',', decimal='.')"
   ]
  },
  {
   "cell_type": "code",
   "execution_count": 42,
   "metadata": {},
   "outputs": [
    {
     "data": {
      "text/html": [
       "<div>\n",
       "<style scoped>\n",
       "    .dataframe tbody tr th:only-of-type {\n",
       "        vertical-align: middle;\n",
       "    }\n",
       "\n",
       "    .dataframe tbody tr th {\n",
       "        vertical-align: top;\n",
       "    }\n",
       "\n",
       "    .dataframe thead th {\n",
       "        text-align: right;\n",
       "    }\n",
       "</style>\n",
       "<table border=\"1\" class=\"dataframe\">\n",
       "  <thead>\n",
       "    <tr style=\"text-align: right;\">\n",
       "      <th></th>\n",
       "      <th>No</th>\n",
       "      <th>X1 transaction date</th>\n",
       "      <th>X2 house age</th>\n",
       "      <th>X3 distance to the nearest MRT station</th>\n",
       "      <th>X4 number of convenience stores</th>\n",
       "      <th>X5 latitude</th>\n",
       "      <th>X6 longitude</th>\n",
       "      <th>Y house price of unit area</th>\n",
       "    </tr>\n",
       "  </thead>\n",
       "  <tbody>\n",
       "    <tr>\n",
       "      <th>0</th>\n",
       "      <td>1</td>\n",
       "      <td>2012.916667</td>\n",
       "      <td>32.0</td>\n",
       "      <td>84.87882</td>\n",
       "      <td>10</td>\n",
       "      <td>24.98298</td>\n",
       "      <td>121.54024</td>\n",
       "      <td>37.9</td>\n",
       "    </tr>\n",
       "    <tr>\n",
       "      <th>1</th>\n",
       "      <td>2</td>\n",
       "      <td>2012.916667</td>\n",
       "      <td>19.5</td>\n",
       "      <td>306.59470</td>\n",
       "      <td>9</td>\n",
       "      <td>24.98034</td>\n",
       "      <td>121.53951</td>\n",
       "      <td>42.2</td>\n",
       "    </tr>\n",
       "    <tr>\n",
       "      <th>2</th>\n",
       "      <td>3</td>\n",
       "      <td>2013.583333</td>\n",
       "      <td>13.3</td>\n",
       "      <td>561.98450</td>\n",
       "      <td>5</td>\n",
       "      <td>24.98746</td>\n",
       "      <td>121.54391</td>\n",
       "      <td>47.3</td>\n",
       "    </tr>\n",
       "    <tr>\n",
       "      <th>3</th>\n",
       "      <td>4</td>\n",
       "      <td>2013.500000</td>\n",
       "      <td>13.3</td>\n",
       "      <td>561.98450</td>\n",
       "      <td>5</td>\n",
       "      <td>24.98746</td>\n",
       "      <td>121.54391</td>\n",
       "      <td>54.8</td>\n",
       "    </tr>\n",
       "    <tr>\n",
       "      <th>4</th>\n",
       "      <td>5</td>\n",
       "      <td>2012.833333</td>\n",
       "      <td>5.0</td>\n",
       "      <td>390.56840</td>\n",
       "      <td>5</td>\n",
       "      <td>24.97937</td>\n",
       "      <td>121.54245</td>\n",
       "      <td>43.1</td>\n",
       "    </tr>\n",
       "  </tbody>\n",
       "</table>\n",
       "</div>"
      ],
      "text/plain": [
       "   No  X1 transaction date  X2 house age  \\\n",
       "0   1          2012.916667          32.0   \n",
       "1   2          2012.916667          19.5   \n",
       "2   3          2013.583333          13.3   \n",
       "3   4          2013.500000          13.3   \n",
       "4   5          2012.833333           5.0   \n",
       "\n",
       "   X3 distance to the nearest MRT station  X4 number of convenience stores  \\\n",
       "0                                84.87882                               10   \n",
       "1                               306.59470                                9   \n",
       "2                               561.98450                                5   \n",
       "3                               561.98450                                5   \n",
       "4                               390.56840                                5   \n",
       "\n",
       "   X5 latitude  X6 longitude  Y house price of unit area  \n",
       "0     24.98298     121.54024                        37.9  \n",
       "1     24.98034     121.53951                        42.2  \n",
       "2     24.98746     121.54391                        47.3  \n",
       "3     24.98746     121.54391                        54.8  \n",
       "4     24.97937     121.54245                        43.1  "
      ]
     },
     "execution_count": 42,
     "metadata": {},
     "output_type": "execute_result"
    }
   ],
   "source": [
    "df.head(5)"
   ]
  },
  {
   "cell_type": "markdown",
   "metadata": {},
   "source": [
    "Attribute Information\n",
    "---\n",
    "The inputs are as follows:\n",
    "X1=the transaction date (for example, 2013.250=2013 March, 2013.500=2013 June, etc.)\n",
    "\n",
    "X2=the house age (unit: year)\n",
    "\n",
    "X3=the distance to the nearest MRT station (unit: meter)\n",
    "\n",
    "X4=the number of convenience stores in the living circle on foot (integer)\n",
    "\n",
    "X5=the geographic coordinate, latitude. (unit: degree)\n",
    "\n",
    "X6=the geographic coordinate, longitude. (unit: degree)\n",
    "\n",
    "The output is as follow:\n",
    "Y= house price of unit area (10000 New Taiwan Dollar/Ping, where Ping is a local unit, 1 Ping = 3.3 meter squared)\n",
    "According to the explanations found on https://stackoverflow.com/questions/1779622/continuous-vs-discrete-attributes, discrete attributes only take certain limited values, usually countable while continuous attributes can be as large or small within a range and they are measured.\n",
    "\n",
    "\n",
    "# Ex1\n",
    "## Discrete attributes\n",
    "X1=the transaction date\n",
    "\n",
    "X2=the house age (unit: year): since the house age is by year and not by time, this attribute should be discrete.\n",
    "\n",
    "X4=the number of convenience stores in the living circle on foot (integer)\n",
    "## Continous attributes\n",
    "X3=the distance to the nearest MRT station (unit: meter)\n",
    "\n",
    "X5=the geographic coordinate, latitude. (unit: degree)\n",
    "\n",
    "X6=the geographic coordinate, longitude. (unit: degree)\n",
    "\n",
    "Unfortunately in this dataset, we do not have any qualitative attributes, the ones which can not be measured in any units.\n",
    "## Quantitative attributes\n",
    "X1=the transaction date\n",
    "\n",
    "X2=the house age (unit: year)\n",
    "\n",
    "X3=the distance to the nearest MRT station (unit: meter)\n",
    "\n",
    "X5=the geographic coordinate, latitude. (unit: degree)\n",
    "\n",
    "X6=the geographic coordinate, longitude. (unit: degree)\n",
    "\n",
    "X4=the number of convenience stores in the living circle on foot (integer)\n",
    "\n",
    "## Mean, variance, covariance, correlation of the dataset"
   ]
  },
  {
   "cell_type": "markdown",
   "metadata": {},
   "source": []
  },
  {
   "cell_type": "code",
   "execution_count": 43,
   "metadata": {},
   "outputs": [],
   "source": [
    "def mean(x):\n",
    "    mean_x = sum(x)/float(len(x))\n",
    "    return mean_x\n",
    "def variance(x):\n",
    "    mean_x = sum(x)/float(len(x))\n",
    "    X = [x_i - mean_x for x_i in x]\n",
    "    n = len(x)\n",
    "    var_x = sum([pow(X[i], 2) for i in range(n)])\n",
    "    return var_x/n\n",
    "def covariance(x, y):\n",
    "    if len(x) != len(y):\n",
    "        print('\\nInputs should have the same length!')\n",
    "    else:\n",
    "        mean_x = sum(x)/float(len(x))\n",
    "        mean_y = sum(y)/float(len(y))\n",
    "        \n",
    "        X = [x_i - mean_x for x_i in x]\n",
    "        Y = [y_i - mean_y for y_i in y]\n",
    "        n = len(x)\n",
    "        numerator = sum([X[i]*Y[i] for i in range(n)])\n",
    "        denominator = n-1\n",
    "        covar = numerator/denominator\n",
    "        return covar\n",
    "def correlation(x, y):\n",
    "    if len(x) != len(y):\n",
    "        print('\\nInputs should have the same length!')\n",
    "    else:\n",
    "        mean_x = sum(x)/float(len(x))\n",
    "        mean_y = sum(y)/float(len(y))\n",
    "        \n",
    "        X = [x_i - mean_x for x_i in x]\n",
    "        Y = [y_i - mean_y for y_i in y]\n",
    "        n = len(x)\n",
    "        numerator = sum([X[i]*Y[i] for i in range(n)])\n",
    "        var_x = sum([pow(X[i], 2) for i in range(n)])\n",
    "        var_y = sum([pow(Y[i], 2) for i in range(n)])\n",
    "        denominator = var_x**0.5 * var_y**0.5\n",
    "        cor = numerator/denominator\n",
    "        return cor"
   ]
  },
  {
   "cell_type": "code",
   "execution_count": 44,
   "metadata": {},
   "outputs": [
    {
     "name": "stdout",
     "output_type": "stream",
     "text": [
      "4.859999999999999\n",
      "4.859999999999999\n",
      "0.0344\n",
      "0.0344\n",
      "0.03649999999999996\n",
      "0.036499999999999956\n",
      "0.6800192944972807\n",
      "0.6800192944972806\n"
     ]
    }
   ],
   "source": [
    "# tests\n",
    "x = [5.1, 4.9, 4.7, 4.6, 5.0]\n",
    "y = [3.5, 3.0, 3.2, 3.1, 3.6]   \n",
    "print(mean(x)) \n",
    "print(np.mean(x)) \n",
    "print(variance(x)) \n",
    "print(np.var(x)) \n",
    "print(covariance(x, y))\n",
    "print(np.cov(x, y)[0][1])\n",
    "print(correlation(x, y))\n",
    "print(np.corrcoef(x, y)[0][1])"
   ]
  },
  {
   "cell_type": "code",
   "execution_count": 45,
   "metadata": {},
   "outputs": [],
   "source": [
    "X1 = df['X1 transaction date']\n",
    "X2 = df['X2 house age']\n",
    "X3 = df['X3 distance to the nearest MRT station']\n",
    "X4 = df['X4 number of convenience stores']\n",
    "X5 = df['X5 latitude']\n",
    "X6 = df['X6 longitude']\n",
    "Y0 = df['Y house price of unit area']"
   ]
  },
  {
   "cell_type": "code",
   "execution_count": 85,
   "metadata": {},
   "outputs": [
    {
     "name": "stdout",
     "output_type": "stream",
     "text": [
      "mean X1 = 2013.148953302899\n",
      "var X1 = 0.07932928393940514\n",
      "mean X2 = 17.71256038647343\n",
      "var X2 = 129.4752045555323\n",
      "mean X3 = 1083.8856889130436\n",
      "var X3 = 1589072.9964466074\n",
      "mean X4 = 4.094202898550725\n",
      "var X4 = 8.655377021634102\n",
      "mean X5 = 24.969030072463745\n",
      "var X5 = 0.00015364096738605597\n",
      "mean X6 = 121.53336108695667\n",
      "var X6 = 0.0002349670985769838\n"
     ]
    }
   ],
   "source": [
    "X_ = [X1, X2, X3, X4, X5, X6]\n",
    "\n",
    "for i, x_ in enumerate(X_, start=1): \n",
    "    print(f'mean X{i} =', mean(x_)) \n",
    "    print(f'var X{i} =', variance(x_)) "
   ]
  },
  {
   "cell_type": "code",
   "execution_count": 86,
   "metadata": {},
   "outputs": [],
   "source": [
    "import pandas as pd\n",
    "\n",
    "data = {'X1': X1,\n",
    "        'X2': X2,\n",
    "        'X3': X3,\n",
    "        'X4': X4,\n",
    "        'X5': X5,\n",
    "        'X6': X6,\n",
    "        }\n",
    "df_attributes = pd.DataFrame(data, columns=['X1','X2','X3', 'X4','X5','X6'])"
   ]
  },
  {
   "cell_type": "code",
   "execution_count": 87,
   "metadata": {},
   "outputs": [
    {
     "name": "stdout",
     "output_type": "stream",
     "text": [
      "           X1          X2            X3           X4        X5         X6\n",
      "X1   0.079521    0.056357  2.166777e+01     0.007928  0.000123  -0.000178\n",
      "X2   0.056357  129.788704  3.684082e+02     1.664189  0.007694  -0.008483\n",
      "X3  21.667774  368.408249  1.592921e+06 -2239.938319 -9.257892 -15.618216\n",
      "X4   0.007928    1.664189 -2.239938e+03     8.676334  0.016236   0.020302\n",
      "X5   0.000123    0.007694 -9.257892e+00     0.016236  0.000154   0.000079\n",
      "X6  -0.000178   -0.008483 -1.561822e+01     0.020302  0.000079   0.000236\n"
     ]
    }
   ],
   "source": [
    "# covariance matrix\n",
    "cov_mat = df_attributes.cov()\n",
    "print(cov_mat)"
   ]
  },
  {
   "cell_type": "code",
   "execution_count": 88,
   "metadata": {},
   "outputs": [
    {
     "name": "stdout",
     "output_type": "stream",
     "text": [
      "          X1        X2        X3        X4        X5        X6\n",
      "X1  1.000000  0.017542  0.060880  0.009544  0.035016 -0.041065\n",
      "X2  0.017542  1.000000  0.025622  0.049593  0.054420 -0.048520\n",
      "X3  0.060880  0.025622  1.000000 -0.602519 -0.591067 -0.806317\n",
      "X4  0.009544  0.049593 -0.602519  1.000000  0.444143  0.449099\n",
      "X5  0.035016  0.054420 -0.591067  0.444143  1.000000  0.412924\n",
      "X6 -0.041065 -0.048520 -0.806317  0.449099  0.412924  1.000000\n"
     ]
    }
   ],
   "source": [
    "# correlation matrix\n",
    "corr_mat = df_attributes.corr()\n",
    "print(corr_mat)"
   ]
  },
  {
   "cell_type": "code",
   "execution_count": 82,
   "metadata": {},
   "outputs": [
    {
     "data": {
      "image/png": "[encoded data removed]",
      "text/plain": [
       "<Figure size 432x288 with 2 Axes>"
      ]
     },
     "metadata": {
      "needs_background": "light"
     },
     "output_type": "display_data"
    }
   ],
   "source": [
    "import seaborn as sns\n",
    "import matplotlib.pyplot as plt\n",
    "\n",
    "\n",
    "sns.heatmap(corr_mat, annot=True)\n",
    "plt.show()"
   ]
  },
  {
   "cell_type": "markdown",
   "metadata": {},
   "source": [
    "We can see the most correlated features are X3-X6, with negative relationship and correlation closest to -1. The smaller the longitude, the lesser MRT stations Taiwan has. This is probably due to Taiwan's geography and infrastructural concentration."
   ]
  },
  {
   "cell_type": "markdown",
   "metadata": {},
   "source": [
    "# EX2\n",
    "\n",
    "Apply PCA on the selected dataset\n",
    "---\n",
    "## Steps\n",
    "1. Standardize the dataset\n",
    "2. Calculate the covariance matrix for the features in the dataset.\n",
    "3. Calculate the eigenvalues and eigenvectors for the covariance matrix.\n",
    "4. Sort eigenvalues and their corresponding eigenvectors.\n",
    "5. Pick k eigenvalues and form a matrix of eigenvectors.\n",
    "6. Transform the original matrix."
   ]
  },
  {
   "cell_type": "code",
   "execution_count": 46,
   "metadata": {},
   "outputs": [],
   "source": [
    "import pandas as pd\n",
    "import numpy as np\n",
    "from sklearn.decomposition import PCA\n",
    "from sklearn.preprocessing import StandardScaler\n",
    "from sklearn import preprocessing\n",
    "import matplotlib.pyplot as plt"
   ]
  },
  {
   "cell_type": "code",
   "execution_count": 47,
   "metadata": {},
   "outputs": [
    {
     "data": {
      "text/html": [
       "<div>\n",
       "<style scoped>\n",
       "    .dataframe tbody tr th:only-of-type {\n",
       "        vertical-align: middle;\n",
       "    }\n",
       "\n",
       "    .dataframe tbody tr th {\n",
       "        vertical-align: top;\n",
       "    }\n",
       "\n",
       "    .dataframe thead th {\n",
       "        text-align: right;\n",
       "    }\n",
       "</style>\n",
       "<table border=\"1\" class=\"dataframe\">\n",
       "  <thead>\n",
       "    <tr style=\"text-align: right;\">\n",
       "      <th></th>\n",
       "      <th>No</th>\n",
       "      <th>X1 transaction date</th>\n",
       "      <th>X2 house age</th>\n",
       "      <th>X3 distance to the nearest MRT station</th>\n",
       "      <th>X4 number of convenience stores</th>\n",
       "      <th>X5 latitude</th>\n",
       "      <th>X6 longitude</th>\n",
       "      <th>Y house price of unit area</th>\n",
       "    </tr>\n",
       "  </thead>\n",
       "  <tbody>\n",
       "    <tr>\n",
       "      <th>0</th>\n",
       "      <td>1</td>\n",
       "      <td>2012.916667</td>\n",
       "      <td>32.0</td>\n",
       "      <td>84.87882</td>\n",
       "      <td>10</td>\n",
       "      <td>24.98298</td>\n",
       "      <td>121.54024</td>\n",
       "      <td>37.9</td>\n",
       "    </tr>\n",
       "    <tr>\n",
       "      <th>1</th>\n",
       "      <td>2</td>\n",
       "      <td>2012.916667</td>\n",
       "      <td>19.5</td>\n",
       "      <td>306.59470</td>\n",
       "      <td>9</td>\n",
       "      <td>24.98034</td>\n",
       "      <td>121.53951</td>\n",
       "      <td>42.2</td>\n",
       "    </tr>\n",
       "    <tr>\n",
       "      <th>2</th>\n",
       "      <td>3</td>\n",
       "      <td>2013.583333</td>\n",
       "      <td>13.3</td>\n",
       "      <td>561.98450</td>\n",
       "      <td>5</td>\n",
       "      <td>24.98746</td>\n",
       "      <td>121.54391</td>\n",
       "      <td>47.3</td>\n",
       "    </tr>\n",
       "    <tr>\n",
       "      <th>3</th>\n",
       "      <td>4</td>\n",
       "      <td>2013.500000</td>\n",
       "      <td>13.3</td>\n",
       "      <td>561.98450</td>\n",
       "      <td>5</td>\n",
       "      <td>24.98746</td>\n",
       "      <td>121.54391</td>\n",
       "      <td>54.8</td>\n",
       "    </tr>\n",
       "    <tr>\n",
       "      <th>4</th>\n",
       "      <td>5</td>\n",
       "      <td>2012.833333</td>\n",
       "      <td>5.0</td>\n",
       "      <td>390.56840</td>\n",
       "      <td>5</td>\n",
       "      <td>24.97937</td>\n",
       "      <td>121.54245</td>\n",
       "      <td>43.1</td>\n",
       "    </tr>\n",
       "  </tbody>\n",
       "</table>\n",
       "</div>"
      ],
      "text/plain": [
       "   No  X1 transaction date  X2 house age  \\\n",
       "0   1          2012.916667          32.0   \n",
       "1   2          2012.916667          19.5   \n",
       "2   3          2013.583333          13.3   \n",
       "3   4          2013.500000          13.3   \n",
       "4   5          2012.833333           5.0   \n",
       "\n",
       "   X3 distance to the nearest MRT station  X4 number of convenience stores  \\\n",
       "0                                84.87882                               10   \n",
       "1                               306.59470                                9   \n",
       "2                               561.98450                                5   \n",
       "3                               561.98450                                5   \n",
       "4                               390.56840                                5   \n",
       "\n",
       "   X5 latitude  X6 longitude  Y house price of unit area  \n",
       "0     24.98298     121.54024                        37.9  \n",
       "1     24.98034     121.53951                        42.2  \n",
       "2     24.98746     121.54391                        47.3  \n",
       "3     24.98746     121.54391                        54.8  \n",
       "4     24.97937     121.54245                        43.1  "
      ]
     },
     "execution_count": 47,
     "metadata": {},
     "output_type": "execute_result"
    }
   ],
   "source": [
    "df.head()"
   ]
  },
  {
   "cell_type": "code",
   "execution_count": 48,
   "metadata": {},
   "outputs": [],
   "source": [
    "\n",
    "features = ['X2 house age', 'X3 distance to the nearest MRT station', 'X4 number of convenience stores', 'X5 latitude',\t'X6 longitude']\n",
    "\n",
    "x = df.loc[:, features].values\n",
    "\n",
    "y = df.loc[:, ['Y house price of unit area']].values\n",
    "\n",
    "x = StandardScaler().fit_transform(x)"
   ]
  },
  {
   "cell_type": "code",
   "execution_count": 70,
   "metadata": {},
   "outputs": [],
   "source": [
    "pca = PCA(n_components=5)\n",
    "principal_components = pca.fit_transform(x)"
   ]
  },
  {
   "cell_type": "code",
   "execution_count": 71,
   "metadata": {},
   "outputs": [
    {
     "data": {
      "text/html": [
       "<div>\n",
       "<style scoped>\n",
       "    .dataframe tbody tr th:only-of-type {\n",
       "        vertical-align: middle;\n",
       "    }\n",
       "\n",
       "    .dataframe tbody tr th {\n",
       "        vertical-align: top;\n",
       "    }\n",
       "\n",
       "    .dataframe thead th {\n",
       "        text-align: right;\n",
       "    }\n",
       "</style>\n",
       "<table border=\"1\" class=\"dataframe\">\n",
       "  <thead>\n",
       "    <tr style=\"text-align: right;\">\n",
       "      <th></th>\n",
       "      <th>PC1</th>\n",
       "      <th>PC2</th>\n",
       "      <th>PC3</th>\n",
       "      <th>PC4</th>\n",
       "      <th>PC5</th>\n",
       "    </tr>\n",
       "  </thead>\n",
       "  <tbody>\n",
       "    <tr>\n",
       "      <th>0</th>\n",
       "      <td>-2.119131</td>\n",
       "      <td>1.455327</td>\n",
       "      <td>0.562260</td>\n",
       "      <td>-0.869479</td>\n",
       "      <td>0.146612</td>\n",
       "    </tr>\n",
       "    <tr>\n",
       "      <th>1</th>\n",
       "      <td>-1.736644</td>\n",
       "      <td>0.341114</td>\n",
       "      <td>0.632466</td>\n",
       "      <td>-0.784314</td>\n",
       "      <td>0.177388</td>\n",
       "    </tr>\n",
       "    <tr>\n",
       "      <th>2</th>\n",
       "      <td>-1.395581</td>\n",
       "      <td>-0.283772</td>\n",
       "      <td>0.707147</td>\n",
       "      <td>0.643045</td>\n",
       "      <td>0.398997</td>\n",
       "    </tr>\n",
       "    <tr>\n",
       "      <th>3</th>\n",
       "      <td>-1.395581</td>\n",
       "      <td>-0.283772</td>\n",
       "      <td>0.707147</td>\n",
       "      <td>0.643045</td>\n",
       "      <td>0.398997</td>\n",
       "    </tr>\n",
       "    <tr>\n",
       "      <th>4</th>\n",
       "      <td>-1.127593</td>\n",
       "      <td>-1.072009</td>\n",
       "      <td>0.429685</td>\n",
       "      <td>0.268325</td>\n",
       "      <td>0.124991</td>\n",
       "    </tr>\n",
       "  </tbody>\n",
       "</table>\n",
       "</div>"
      ],
      "text/plain": [
       "        PC1       PC2       PC3       PC4       PC5\n",
       "0 -2.119131  1.455327  0.562260 -0.869479  0.146612\n",
       "1 -1.736644  0.341114  0.632466 -0.784314  0.177388\n",
       "2 -1.395581 -0.283772  0.707147  0.643045  0.398997\n",
       "3 -1.395581 -0.283772  0.707147  0.643045  0.398997\n",
       "4 -1.127593 -1.072009  0.429685  0.268325  0.124991"
      ]
     },
     "execution_count": 71,
     "metadata": {},
     "output_type": "execute_result"
    }
   ],
   "source": [
    "columns = ['PC1', 'PC2', 'PC3', 'PC4', 'PC5']\n",
    "pca_df = pd.DataFrame(data = principal_components, columns=columns) # pca_df = principal_dataframe\n",
    "pca_df.head()"
   ]
  },
  {
   "cell_type": "code",
   "execution_count": 51,
   "metadata": {},
   "outputs": [
    {
     "data": {
      "text/html": [
       "<div>\n",
       "<style scoped>\n",
       "    .dataframe tbody tr th:only-of-type {\n",
       "        vertical-align: middle;\n",
       "    }\n",
       "\n",
       "    .dataframe tbody tr th {\n",
       "        vertical-align: top;\n",
       "    }\n",
       "\n",
       "    .dataframe thead th {\n",
       "        text-align: right;\n",
       "    }\n",
       "</style>\n",
       "<table border=\"1\" class=\"dataframe\">\n",
       "  <thead>\n",
       "    <tr style=\"text-align: right;\">\n",
       "      <th></th>\n",
       "      <th>PC1</th>\n",
       "      <th>PC2</th>\n",
       "      <th>PC3</th>\n",
       "      <th>PC4</th>\n",
       "      <th>PC5</th>\n",
       "      <th>Y house price of unit area</th>\n",
       "    </tr>\n",
       "  </thead>\n",
       "  <tbody>\n",
       "    <tr>\n",
       "      <th>0</th>\n",
       "      <td>-2.119131</td>\n",
       "      <td>1.455327</td>\n",
       "      <td>0.562260</td>\n",
       "      <td>-0.869479</td>\n",
       "      <td>0.146612</td>\n",
       "      <td>37.9</td>\n",
       "    </tr>\n",
       "    <tr>\n",
       "      <th>1</th>\n",
       "      <td>-1.736644</td>\n",
       "      <td>0.341114</td>\n",
       "      <td>0.632466</td>\n",
       "      <td>-0.784314</td>\n",
       "      <td>0.177388</td>\n",
       "      <td>42.2</td>\n",
       "    </tr>\n",
       "    <tr>\n",
       "      <th>2</th>\n",
       "      <td>-1.395581</td>\n",
       "      <td>-0.283772</td>\n",
       "      <td>0.707147</td>\n",
       "      <td>0.643045</td>\n",
       "      <td>0.398997</td>\n",
       "      <td>47.3</td>\n",
       "    </tr>\n",
       "    <tr>\n",
       "      <th>3</th>\n",
       "      <td>-1.395581</td>\n",
       "      <td>-0.283772</td>\n",
       "      <td>0.707147</td>\n",
       "      <td>0.643045</td>\n",
       "      <td>0.398997</td>\n",
       "      <td>54.8</td>\n",
       "    </tr>\n",
       "    <tr>\n",
       "      <th>4</th>\n",
       "      <td>-1.127593</td>\n",
       "      <td>-1.072009</td>\n",
       "      <td>0.429685</td>\n",
       "      <td>0.268325</td>\n",
       "      <td>0.124991</td>\n",
       "      <td>43.1</td>\n",
       "    </tr>\n",
       "  </tbody>\n",
       "</table>\n",
       "</div>"
      ],
      "text/plain": [
       "        PC1       PC2       PC3       PC4       PC5  \\\n",
       "0 -2.119131  1.455327  0.562260 -0.869479  0.146612   \n",
       "1 -1.736644  0.341114  0.632466 -0.784314  0.177388   \n",
       "2 -1.395581 -0.283772  0.707147  0.643045  0.398997   \n",
       "3 -1.395581 -0.283772  0.707147  0.643045  0.398997   \n",
       "4 -1.127593 -1.072009  0.429685  0.268325  0.124991   \n",
       "\n",
       "   Y house price of unit area  \n",
       "0                        37.9  \n",
       "1                        42.2  \n",
       "2                        47.3  \n",
       "3                        54.8  \n",
       "4                        43.1  "
      ]
     },
     "execution_count": 51,
     "metadata": {},
     "output_type": "execute_result"
    }
   ],
   "source": [
    "price_by_area_df = df[['Y house price of unit area']]\n",
    "new_df = pd.concat([pca_df, price_by_area_df], axis=1) # a list of df will do\n",
    "new_df.head()"
   ]
  },
  {
   "cell_type": "code",
   "execution_count": 72,
   "metadata": {},
   "outputs": [
    {
     "data": {
      "image/png": "[encoded data removed]",
      "text/plain": [
       "<Figure size 432x288 with 1 Axes>"
      ]
     },
     "metadata": {
      "needs_background": "light"
     },
     "output_type": "display_data"
    }
   ],
   "source": [
    "percent_variance = np.round(pca.explained_variance_ratio_* 100, decimals =2)\n",
    "labels = ['PC' + str(x) for x in range(1, len(percent_variance) + 1)]\n",
    "plt.bar(x=range(1, len(percent_variance) + 1), height=percent_variance, tick_label=labels)\n",
    "plt.ylabel('Percentate of Variance Explained')\n",
    "plt.xlabel('Principal Component')\n",
    "plt.title('PCA Scree Plot')\n",
    "plt.show()"
   ]
  },
  {
   "cell_type": "code",
   "execution_count": 53,
   "metadata": {},
   "outputs": [
    {
     "data": {
      "text/plain": [
       "array([0.53472899, 0.20414841, 0.12091694, 0.10993216, 0.0302735 ])"
      ]
     },
     "execution_count": 53,
     "metadata": {},
     "output_type": "execute_result"
    }
   ],
   "source": [
    "pca.explained_variance_ratio_"
   ]
  },
  {
   "cell_type": "markdown",
   "metadata": {},
   "source": [
    "Principal component 1 holds 53.47% of the information while the principal component 2 holds only 20.4% of the information, therefore\n",
    "The above result shows that PC1, PC2 and PC3 explain most of the variance, so PC1, PC2 and PC3 should do the job of representing the the original data."
   ]
  },
  {
   "cell_type": "code",
   "execution_count": 58,
   "metadata": {},
   "outputs": [
    {
     "data": {
      "image/png": "[encoded data removed]",
      "text/plain": [
       "<Figure size 432x288 with 1 Axes>"
      ]
     },
     "metadata": {
      "needs_background": "light"
     },
     "output_type": "display_data"
    }
   ],
   "source": [
    "plt.scatter(pca_df.PC1, pca_df.PC2)\n",
    "plt.title('PC1 against PC2')\n",
    "plt.xlabel(f'PC1 - {percent_variance[0]}%')\n",
    "plt.ylabel(f'PC2 - {percent_variance[1]}%')\n",
    "\n",
    "\n",
    "# for sample in pca_df.index:\n",
    "#     plt.annotate(sample, (pca_df.PC1.loc[sample], pca_df.PC2.loc[sample]))\n",
    "plt.show()"
   ]
  },
  {
   "cell_type": "code",
   "execution_count": 73,
   "metadata": {},
   "outputs": [
    {
     "data": {
      "text/plain": [
       "Text(0, 0.5, 'PC3 - 12.09%')"
      ]
     },
     "execution_count": 73,
     "metadata": {},
     "output_type": "execute_result"
    },
    {
     "data": {
      "image/png": "[encoded data removed]",
      "text/plain": [
       "<Figure size 432x288 with 1 Axes>"
      ]
     },
     "metadata": {
      "needs_background": "light"
     },
     "output_type": "display_data"
    }
   ],
   "source": [
    "plt.scatter(pca_df.PC1, pca_df.PC3)\n",
    "plt.title('PC1 against PC3')\n",
    "plt.xlabel(f'PC1 - {percent_variance[0]}%')\n",
    "plt.ylabel(f'PC3 - {percent_variance[2]}%')"
   ]
  },
  {
   "cell_type": "markdown",
   "metadata": {},
   "source": [
    "Individual classes are two clusters on the left and the right with a visible gap in the middle, meaning the classes are very well separated from each other using principal components."
   ]
  },
  {
   "cell_type": "code",
   "execution_count": 78,
   "metadata": {},
   "outputs": [
    {
     "data": {
      "text/plain": [
       "array([[-0.00479857,  0.57031005, -0.46149363, -0.44971892, -0.50941137],\n",
       "       [ 0.97502535,  0.06549857,  0.10204392,  0.12453992, -0.13824744],\n",
       "       [-0.21360464,  0.21345891,  0.23514166,  0.70628114, -0.59555327],\n",
       "       [ 0.05935791, -0.09860281, -0.83445122,  0.49842074,  0.20499283],\n",
       "       [-0.01233849,  0.7843272 ,  0.15814626,  0.18704657,  0.56980869]])"
      ]
     },
     "execution_count": 78,
     "metadata": {},
     "output_type": "execute_result"
    }
   ],
   "source": [
    "# Weights/Coefficients of each principal component PC\n",
    "pca.components_"
   ]
  },
  {
   "cell_type": "markdown",
   "metadata": {},
   "source": [
    "Each aray in the list above contains weights of independent attributes that make a PC - principal component"
   ]
  },
  {
   "cell_type": "markdown",
   "metadata": {},
   "source": []
  },
  {
   "cell_type": "code",
   "execution_count": null,
   "metadata": {},
   "outputs": [],
   "source": []
  },
  {
   "cell_type": "code",
   "execution_count": null,
   "metadata": {},
   "outputs": [],
   "source": []
  }
 ],
 "metadata": {
  "interpreter": {
   "hash": "2be5faf79681da6f2a61fdfdd5405d65d042280f7fba6178067603e3a2925119"
  },
  "kernelspec": {
   "display_name": "Python 3.10.1 64-bit",
   "language": "python",
   "name": "python3"
  },
  "language_info": {
   "codemirror_mode": {
    "name": "ipython",
    "version": 3
   },
   "file_extension": ".py",
   "mimetype": "text/x-python",
   "name": "python",
   "nbconvert_exporter": "python",
   "pygments_lexer": "ipython3",
   "version": "3.10.1"
  },
  "orig_nbformat": 4
 },
 "nbformat": 4,
 "nbformat_minor": 2
}
